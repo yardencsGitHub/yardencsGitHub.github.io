{
 "cells": [
  {
   "cell_type": "markdown",
   "metadata": {
    "deletable": true,
    "editable": true
   },
   "source": [
    "# Publications markdown generator for academicpages\n",
    "\n",
    "Takes a TSV of publications with metadata and converts them for use with [academicpages.github.io](academicpages.github.io). This is an interactive Jupyter notebook ([see more info here](http://jupyter-notebook-beginner-guide.readthedocs.io/en/latest/what_is_jupyter.html)). The core python code is also in `publications.py`. Run either from the `markdown_generator` folder after replacing `publications.tsv` with one containing your data.\n",
    "\n",
    "TODO: Make this work with BibTex and other databases of citations, rather than Stuart's non-standard TSV format and citation style.\n"
   ]
  },
  {
   "cell_type": "markdown",
   "metadata": {},
   "source": [
    "## Data format\n",
    "\n",
    "The TSV needs to have the following columns: pub_date, title, venue, excerpt, citation, site_url, and paper_url, with a header at the top. \n",
    "\n",
    "- `excerpt` and `paper_url` can be blank, but the others must have values. \n",
    "- `pub_date` must be formatted as YYYY-MM-DD.\n",
    "- `url_slug` will be the descriptive part of the .md file and the permalink URL for the page about the paper. The .md file will be `YYYY-MM-DD-[url_slug].md` and the permalink will be `https://[yourdomain]/publications/YYYY-MM-DD-[url_slug]`\n",
    "\n",
    "This is how the raw file looks (it doesn't look pretty, use a spreadsheet or other program to edit and create)."
   ]
  },
  {
   "cell_type": "code",
   "execution_count": 60,
   "metadata": {
    "collapsed": false
   },
   "outputs": [
    {
     "name": "stdout",
     "output_type": "stream",
     "text": [
      "pub_date\ttitle\tvenue\texcerpt\tcitation\turl_slug\tpaper_url\r",
      "2013-01-08\tHigh-order feature-based mixture models of classification learning predict individual learning curves and enable personalized teaching\tPNAS\t\"Pattern classification learning tasks are commonly used to explore\r",
      "learning strategies in human subjects. The universal and individual\r",
      "traits of learning such tasks reflect our cognitive abilities and have\r",
      "been of interest both psychophysically and clinically. From a computational\r",
      "perspective, these tasks are hard, because the number of\r",
      "patterns and rules one could consider even in simple cases is exponentially\r",
      "large. Thus, when we learn to classify we must use simplifying\r",
      "assumptions and generalize. Studies of human behavior in probabilistic\r",
      "learning tasks have focused on rules in which pattern cues are\r",
      "independent, and also described individual behavior in terms of\r",
      "simple, single-cue, feature-based models. Here, we conducted psychophysical\r",
      "experiments in which people learned to classify binary\r",
      "sequences according to deterministic rules of different complexity,\r",
      "including high-order, multicue-dependent rules. We show that\r",
      "human performance on such tasks is very diverse, but that a class\r",
      "of reinforcement learning-like models that use a mixture of features\r",
      "captures individual learning behavior surprisinglywell. Thesemodels\r",
      "reflect the important role of subjects� priors, and their reliance on\r",
      "high-order features even when learning a low-order rule. Further,\r",
      "we show that these models predict future individual answers to\r",
      "a high degree of accuracy. We then use these models to build personally\r",
      "optimized teaching sessions and boost learning.\"\t\"<b>Cohen Y</b>, Schneidman E (2013) \"\"High-order feature-based mixture models of classi cation learning\r",
      "predict individual learning curves and enable personalized teaching\"\". <i>Proc Natl Acad Sci</i> USA\r",
      "110:684689.\"\tcohen-schneidman-pnas\thttps://www.pnas.org/content/110/2/684\r",
      "2015-10-19\t\"It All Depends on the Context, but Also on the Amygdala\"\tNeuron\t\"Behavioral flexibility requires the brain to maintain and rely on cognitive contexts for dictating appropriate responses. Saez et al. (2015) demonstrate that such abstract rule-based representations co-exist in prefrontal cortices and in the amygdala, with the latter being surprisingly crucial for correct performance.\"\t\"Cohen Y, Paz R (2015) \"\"It All Depends on the Context, but Also on the Amygdala\"\". <i>Neuron</i> 87: 4: 67880. (Preview)\"\tcohen-paz-neuron\thttps://www.sciencedirect.com/science/article/pii/S089662731500687X\r",
      "2018-01-08\tAmorphous silicon carbide ultramicroelectrode arrays for neural stimulation and recording\tJournal of neural engineering\t\"Foreign body response to indwelling cortical microelectrodes limits the reliability\r",
      "of neural stimulation and recording, particularly for extended chronic applications in behaving\r",
      "animals. The extent to which this response compromises the chronic stability of neural\r",
      "devices depends on many factors including the materials used in the electrode construction,\r",
      "the size, and geometry of the indwelling structure. Here, we report on the development of\r",
      "microelectrode arrays (MEAs) based on amorphous silicon carbide (a-SiC). Approach. This\r",
      "technology utilizes a-SiC for its chronic stability and employs semiconductor manufacturing\r",
      "processes to create MEAs with small shank dimensions. The a-SiC films were deposited by\r",
      "plasma enhanced chemical vapor deposition and patterned by thin-film photolithographic\r",
      "techniques. To improve stimulation and recording capabilities with small contact areas, we\r",
      "investigated low impedance coatings on the electrode sites. The assembled devices were\r",
      "characterized in phosphate buffered saline for their electrochemical properties. Main results.\r",
      "MEAs utilizing a-SiC as both the primary structural element and encapsulation were\r",
      "fabricated successfully. These a-SiC MEAs had 16 penetrating shanks. Each shank has a\r",
      "cross-sectional area less than 60 _m2 and electrode sites with a geometric surface area varying\r",
      "from 20 to 200 _m2. Electrode coatings of TiN and SIROF reduced 1 kHz electrode impedance\r",
      "to less than 100 k� from ~2.8 M� for 100 _m2 Au electrode sites and increased the charge\r",
      "injection capacities to values greater than 3 mC cm_2. Finally, we demonstrated functionality\r",
      "by recording neural activity from basal ganglia nucleus of Zebra Finches and motor cortex\r",
      "of rat. Significance. The a-SiC MEAs provide a significant advancement in the development\r",
      "of microelectrodes that over the years has relied on silicon platforms for device manufacture.\r",
      "These flexible a-SiC MEAs have the potential for decreased tissue damage and reduced\r",
      "foreign body response. The technique is promising and has potential for clinical translation\r",
      "and large scale manufacturing.\"\t\"Deku F, <b>Cohen Y</b>, Joshi-Imre A, Kanneganti A, Gardner TJ, and Cogan SF (2018) \"\"Amorphous\r",
      "Silicon Carbide Ultramicroelectrode Arrays for Neural Stimulation and Recording\"\". <i>J. Neural Eng.</i>\r",
      "15, 016007.\"\tJNE-deku\thttps://iopscience.iop.org/article/10.1088/1741-2552/aa8f8b\r",
      "2018-09-20\tAmorphous Silicon Carbide Platform for Next Generation Penetrating Neural Interface Designs\tMicromachines\t\"Microelectrode arrays that consistently and reliably record and stimulate neural activity\r",
      "under conditions of chronic implantation have so far eluded the neural interface community due\r",
      "to failures attributed to both biotic and abiotic mechanisms. Arrays with transverse dimensions\r",
      "of 10  m or below are thought to minimize the inflammatory response; however, the reduction\r",
      "of implant thickness also decreases buckling thresholds for materials with low Young�s modulus.\r",
      "While these issues have been overcome using stiffer, thicker materials as transport shuttles during\r",
      "implantation, the acute damage from the use of shuttles may generate many other biotic complications.\r",
      "Amorphous silicon carbide (a-SiC) provides excellent electrical insulation and a large Young�s\r",
      "modulus, allowing the fabrication of ultrasmall arrays with increased resistance to buckling.\r",
      "Prototype a-SiC intracortical implants were fabricated containing 8 - 16 single shanks which had\r",
      "critical thicknesses of either 4  m or 6  m. The 6  m thick a-SiC shanks could penetrate rat cortex\r",
      "without an insertion aid. Single unit recordings from SIROF-coated arrays implanted without\r",
      "any structural support are presented. This work demonstrates that a-SiC can provide an excellent\r",
      "mechanical platform for devices that penetrate cortical tissue while maintaining a critical thickness\r",
      "less than 10  m.\"\t\"Deku F, Frewin C, Stiller A, <ul>Cohen Y</ul>, Aqeel S, Joshi-Imre A, Black B, Gardner TJ, Pancrazio JJ, and Cogan SF (2018) \\Amorphous Silicon Carbide Platform for Next Generation Penetrating Neural\r",
      "Interface Designs\"\". <i>Micromachines</i>, 9(10), 480.\"\tmicromachines-deku-paper\thttps://www.mdpi.com/2072-666X/9/10/480\r",
      "2019-02-28\tA geometric representation unveils learning dynamics in primate neurons\tbioRxiv\t\"Primates can quickly and advantageously adopt complex rule-based behaviors. We studied\r",
      "acquisition of rule-based classification while recording single neurons in the dorsal-anteriorcingulate-cortex (dACC) and the Striatum. Monkeys performed trial-by-trial classification on a rich\r",
      "set of multi-cue patterns, allowing de-novo rule-learning with varying conceptual complexities every\r",
      "few days. To examine neural dynamics during the learning itself, we represent each rule with a\r",
      "spanning set of the space formed by the stimulus features. Because neural preference can be\r",
      "expressed by feature combinations, we can track neural dynamics in geometrical terms in this\r",
      "space, allowing a compact universal description of neural trajectories by observing changes in\r",
      "either vector-magnitude and/or angle-to-rule. We find that a large fraction of cells in both regions\r",
      "follow the behavior during learning. Neurons in the dACC mainly rotate towards the rule, suggesting\r",
      "an increase in selectivity that approximates the rule; whereas in the Putamen we additionally find a\r",
      "prominent magnitude increase, suggesting strengthening of confidence. Moreover, magnitude\r",
      "increases in the striatum followed rotation in the dACC, and finally, the neural policy at the end of\r",
      "the session predicted next-day behavior. Using this novel framework enables tracking of neural\r",
      "dynamics during learning and suggests differential roles of confidence and policy for the different\r",
      "brain regions.\"\t\"<b>Cohen Y</b>, Schneidman E, Paz R (2019) \"\"A geometric representation unveils learning dynamics in primate\r",
      "neurons\"\". <i>bioRxiv</i>\"\tcohen-schneidman-paz-biorxiv\thttps://www.biorxiv.org/content/biorxiv/early/2019/02/28/561670.full.pdf\r",
      "2020-05-01\tHidden neural states underlie canary song syntax\tNature\t\"Coordinated skills such as speech or dance involve sequences of actions that follow syntactic rules in which transitions between elements depend on the identity and order of past actions. Canary songs are comprised of repeated syllables, called phrases, and the ordering of these phrases follows long-range rules, where the choice of what to sing depends on song structure many seconds prior. The neural substrates that support these long-range correlations are unknown. Using miniature head-mounted microscopes and cell-type-specific genetic tools, we observed neural activity in the premotor nucleus HVC as canaries explore various phrase sequences in their repertoire. We find neurons that encode past transitions, extending over 4 phrases and spanning up to 4 seconds and 40 syllables. These neurons preferentially encode past actions rather than future actions, can reflect more than a single song history, and occur mostly during the rare phrases that involve history-dependent transitions in song. These findings demonstrate that HVC dynamics includes �hidden states� not reflected in ongoing behavior � states that carry information about prior actions. These states provide a possible substrate to control syntax transitions governed by long-range rules.\"\t\"**Cohen Y**, Shen J, Semu D, Leman DP, Liberti WA III, Perkins N, and Gardner TJ (2020). \"\"Hidden neural states underlie canary song syntax.\"\" <i>Nature</i>. Accepted.\"\tcanary-paper-nature\thttps://www.biorxiv.org/content/10.1101/561761v2"
     ]
    }
   ],
   "source": [
    "!cat publications.txt"
   ]
  },
  {
   "cell_type": "markdown",
   "metadata": {},
   "source": [
    "## Import pandas\n",
    "\n",
    "We are using the very handy pandas library for dataframes."
   ]
  },
  {
   "cell_type": "code",
   "execution_count": 2,
   "metadata": {
    "collapsed": true,
    "deletable": true,
    "editable": true
   },
   "outputs": [],
   "source": [
    "import pandas as pd"
   ]
  },
  {
   "cell_type": "markdown",
   "metadata": {},
   "source": [
    "## Import TSV\n",
    "\n",
    "Pandas makes this easy with the read_csv function. We are using a TSV, so we specify the separator as a tab, or `\\t`.\n",
    "\n",
    "I found it important to put this data in a tab-separated values format, because there are a lot of commas in this kind of data and comma-separated values can get messed up. However, you can modify the import statement, as pandas also has read_excel(), read_json(), and others."
   ]
  },
  {
   "cell_type": "code",
   "execution_count": 56,
   "metadata": {
    "collapsed": false,
    "deletable": true,
    "editable": true
   },
   "outputs": [
    {
     "data": {
      "text/html": [
       "<div>\n",
       "<table border=\"1\" class=\"dataframe\">\n",
       "  <thead>\n",
       "    <tr style=\"text-align: right;\">\n",
       "      <th></th>\n",
       "      <th>pub_date</th>\n",
       "      <th>title</th>\n",
       "      <th>venue</th>\n",
       "      <th>excerpt</th>\n",
       "      <th>citation</th>\n",
       "      <th>url_slug</th>\n",
       "      <th>paper_url</th>\n",
       "    </tr>\n",
       "  </thead>\n",
       "  <tbody>\n",
       "    <tr>\n",
       "      <th>0</th>\n",
       "      <td>2020-05-01</td>\n",
       "      <td>Hidden neural states underlie canary song syntax</td>\n",
       "      <td>Nature</td>\n",
       "      <td>Coordinated skills such as speech or dance inv...</td>\n",
       "      <td>**Cohen Y**, Shen J, Semu D, Leman DP, Liberti...</td>\n",
       "      <td>canary-paper-nature</td>\n",
       "      <td>http://yardencsGitHub.github.io/files/paper1.pdf</td>\n",
       "    </tr>\n",
       "    <tr>\n",
       "      <th>1</th>\n",
       "      <td>2020-05-01</td>\n",
       "      <td>Paper Title Number 2</td>\n",
       "      <td>Journal 1</td>\n",
       "      <td>This paper is about the number 2. The number 3...</td>\n",
       "      <td>Your Name, You. (2010). \"Paper Title Number 2....</td>\n",
       "      <td>paper-title-number-2</td>\n",
       "      <td>http://academicpages.github.io/files/paper2.pdf</td>\n",
       "    </tr>\n",
       "    <tr>\n",
       "      <th>2</th>\n",
       "      <td>2020-05-01</td>\n",
       "      <td>Paper Title Number 3</td>\n",
       "      <td>Journal 1</td>\n",
       "      <td>This paper is about the number 3. The number 4...</td>\n",
       "      <td>Your Name, You. (2015). \"Paper Title Number 3....</td>\n",
       "      <td>paper-title-number-3</td>\n",
       "      <td>http://academicpages.github.io/files/paper3.pdf</td>\n",
       "    </tr>\n",
       "  </tbody>\n",
       "</table>\n",
       "</div>"
      ],
      "text/plain": [
       "     pub_date                                             title      venue  \\\n",
       "0  2020-05-01  Hidden neural states underlie canary song syntax     Nature   \n",
       "1  2020-05-01                              Paper Title Number 2  Journal 1   \n",
       "2  2020-05-01                              Paper Title Number 3  Journal 1   \n",
       "\n",
       "                                             excerpt  \\\n",
       "0  Coordinated skills such as speech or dance inv...   \n",
       "1  This paper is about the number 2. The number 3...   \n",
       "2  This paper is about the number 3. The number 4...   \n",
       "\n",
       "                                            citation              url_slug  \\\n",
       "0  **Cohen Y**, Shen J, Semu D, Leman DP, Liberti...   canary-paper-nature   \n",
       "1  Your Name, You. (2010). \"Paper Title Number 2....  paper-title-number-2   \n",
       "2  Your Name, You. (2015). \"Paper Title Number 3....  paper-title-number-3   \n",
       "\n",
       "                                          paper_url  \n",
       "0  http://yardencsGitHub.github.io/files/paper1.pdf  \n",
       "1   http://academicpages.github.io/files/paper2.pdf  \n",
       "2   http://academicpages.github.io/files/paper3.pdf  "
      ]
     },
     "execution_count": 56,
     "metadata": {},
     "output_type": "execute_result"
    }
   ],
   "source": [
    "publications = pd.read_csv(\"publications.txt\", sep=\"\\t\", header=0)\n",
    "publications\n"
   ]
  },
  {
   "cell_type": "markdown",
   "metadata": {},
   "source": [
    "## Escape special characters\n",
    "\n",
    "YAML is very picky about how it takes a valid string, so we are replacing single and double quotes (and ampersands) with their HTML encoded equivilents. This makes them look not so readable in raw format, but they are parsed and rendered nicely."
   ]
  },
  {
   "cell_type": "code",
   "execution_count": 57,
   "metadata": {
    "collapsed": true,
    "deletable": true,
    "editable": true
   },
   "outputs": [],
   "source": [
    "html_escape_table = {\n",
    "    \"&\": \"&amp;\",\n",
    "    '\"': \"&quot;\",\n",
    "    \"'\": \"&apos;\"\n",
    "    }\n",
    "\n",
    "def html_escape(text):\n",
    "    \"\"\"Produce entities within text.\"\"\"\n",
    "    return \"\".join(html_escape_table.get(c,c) for c in text)"
   ]
  },
  {
   "cell_type": "markdown",
   "metadata": {},
   "source": [
    "## Creating the markdown files\n",
    "\n",
    "This is where the heavy lifting is done. This loops through all the rows in the TSV dataframe, then starts to concatentate a big string (```md```) that contains the markdown for each type. It does the YAML metadata first, then does the description for the individual page."
   ]
  },
  {
   "cell_type": "code",
   "execution_count": 58,
   "metadata": {
    "collapsed": false,
    "deletable": true,
    "editable": true
   },
   "outputs": [],
   "source": [
    "import os\n",
    "for row, item in publications.iterrows():\n",
    "    \n",
    "    md_filename = str(item.pub_date) + \"-\" + item.url_slug + \".md\"\n",
    "    html_filename = str(item.pub_date) + \"-\" + item.url_slug\n",
    "    year = item.pub_date[:4]\n",
    "    \n",
    "    ## YAML variables\n",
    "    \n",
    "    md = \"---\\ntitle: \\\"\"   + item.title + '\"\\n'\n",
    "    \n",
    "    md += \"\"\"collection: publications\"\"\"\n",
    "    \n",
    "    md += \"\"\"\\npermalink: /publication/\"\"\" + html_filename\n",
    "    \n",
    "    if len(str(item.excerpt)) > 5:\n",
    "        md += \"\\nexcerpt: '\" + html_escape(item.excerpt) + \"'\"\n",
    "    \n",
    "    md += \"\\ndate: \" + str(item.pub_date) \n",
    "    \n",
    "    md += \"\\nvenue: '\" + html_escape(item.venue) + \"'\"\n",
    "    \n",
    "    if len(str(item.paper_url)) > 5:\n",
    "        md += \"\\npaperurl: '\" + item.paper_url + \"'\"\n",
    "    \n",
    "    md += \"\\ncitation: '\" + html_escape(item.citation) + \"'\"\n",
    "    \n",
    "    md += \"\\n---\"\n",
    "    \n",
    "    ## Markdown description for individual page\n",
    "        \n",
    "    if len(str(item.excerpt)) > 5:\n",
    "        md += \"\\n\" + html_escape(item.excerpt) + \"\\n\"\n",
    "    \n",
    "    if len(str(item.paper_url)) > 5:\n",
    "        md += \"\\n[Download paper here](\" + item.paper_url + \")\\n\" \n",
    "        \n",
    "    md += \"\\nRecommended citation: \" + item.citation\n",
    "    \n",
    "    md_filename = os.path.basename(md_filename)\n",
    "       \n",
    "    with open(\"../_publications/\" + md_filename, 'w') as f:\n",
    "        f.write(md)"
   ]
  },
  {
   "cell_type": "markdown",
   "metadata": {},
   "source": [
    "These files are in the publications directory, one directory below where we're working from."
   ]
  },
  {
   "cell_type": "code",
   "execution_count": 53,
   "metadata": {
    "collapsed": false,
    "deletable": true,
    "editable": true
   },
   "outputs": [
    {
     "name": "stdout",
     "output_type": "stream",
     "text": [
      "2020-05-01-canary-paper-nature.md  2020-05-01-paper-title-number-3.md\r\n",
      "2020-05-01-paper-title-number-2.md\r\n",
      "2020-05-01\n",
      "2020-05-01\n",
      "2020-05-01\n"
     ]
    }
   ],
   "source": [
    "!ls ../_publications/\n",
    "for row, item in publications.iterrows():\n",
    "    print(str(item.pub_date))"
   ]
  },
  {
   "cell_type": "code",
   "execution_count": 59,
   "metadata": {
    "collapsed": false,
    "deletable": true,
    "editable": true
   },
   "outputs": [
    {
     "name": "stdout",
     "output_type": "stream",
     "text": [
      "---\r\n",
      "title: \"Hidden neural states underlie canary song syntax\"\r\n",
      "collection: publications\r\n",
      "permalink: /publication/2020-05-01-canary-paper-nature\r\n",
      "excerpt: 'Coordinated skills such as speech or dance involve sequences of actions that follow syntactic rules in which transitions between elements depend on the identity and order of past actions. Canary songs are comprised of repeated syllables, called phrases, and the ordering of these phrases follows long-range rules, where the choice of what to sing depends on song structure many seconds prior. The neural substrates that support these long-range correlations are unknown. Using miniature head-mounted microscopes and cell-type-specific genetic tools, we observed neural activity in the premotor nucleus HVC as canaries explore various phrase sequences in their repertoire. We find neurons that encode past transitions, extending over 4 phrases and spanning up to 4 seconds and 40 syllables. These neurons preferentially encode past actions rather than future actions, can reflect more than a single song history, and occur mostly during the rare phrases that involve history-dependent transitions in song. These findings demonstrate that HVC dynamics includes &quot;hidden states&quot; not reflected in ongoing behavior - states that carry information about prior actions. These states provide a possible substrate to control syntax transitions governed by long-range rules.'\r\n",
      "date: 2020-05-01\r\n",
      "venue: 'Nature'\r\n",
      "paperurl: 'http://yardencsGitHub.github.io/files/paper1.pdf'\r\n",
      "citation: '**Cohen Y**, Shen J, Semu D, Leman DP, Liberti WA III, Perkins N, and Gardner TJ (2020). &quot;Hidden neural states underlie canary song syntax.&quot; <i>Nature</i>. Accepted.'\r\n",
      "---\r\n",
      "Coordinated skills such as speech or dance involve sequences of actions that follow syntactic rules in which transitions between elements depend on the identity and order of past actions. Canary songs are comprised of repeated syllables, called phrases, and the ordering of these phrases follows long-range rules, where the choice of what to sing depends on song structure many seconds prior. The neural substrates that support these long-range correlations are unknown. Using miniature head-mounted microscopes and cell-type-specific genetic tools, we observed neural activity in the premotor nucleus HVC as canaries explore various phrase sequences in their repertoire. We find neurons that encode past transitions, extending over 4 phrases and spanning up to 4 seconds and 40 syllables. These neurons preferentially encode past actions rather than future actions, can reflect more than a single song history, and occur mostly during the rare phrases that involve history-dependent transitions in song. These findings demonstrate that HVC dynamics includes &quot;hidden states&quot; not reflected in ongoing behavior - states that carry information about prior actions. These states provide a possible substrate to control syntax transitions governed by long-range rules.\r\n",
      "\r\n",
      "[Download paper here](http://yardencsGitHub.github.io/files/paper1.pdf)\r",
      "\r\n",
      "\r\n",
      "Recommended citation: **Cohen Y**, Shen J, Semu D, Leman DP, Liberti WA III, Perkins N, and Gardner TJ (2020). \"Hidden neural states underlie canary song syntax.\" <i>Nature</i>. Accepted."
     ]
    }
   ],
   "source": [
    "!cat ../_publications/2020-05-01-canary-paper-nature.md"
   ]
  },
  {
   "cell_type": "code",
   "execution_count": null,
   "metadata": {
    "collapsed": true,
    "deletable": true,
    "editable": true
   },
   "outputs": [],
   "source": []
  },
  {
   "cell_type": "code",
   "execution_count": null,
   "metadata": {},
   "outputs": [],
   "source": []
  }
 ],
 "metadata": {
  "kernelspec": {
   "display_name": "Python 2",
   "language": "python",
   "name": "python2"
  },
  "language_info": {
   "codemirror_mode": {
    "name": "ipython",
    "version": 2
   },
   "file_extension": ".py",
   "mimetype": "text/x-python",
   "name": "python",
   "nbconvert_exporter": "python",
   "pygments_lexer": "ipython2",
   "version": "2.7.14"
  }
 },
 "nbformat": 4,
 "nbformat_minor": 2
}
